{
 "cells": [
  {
   "cell_type": "code",
   "execution_count": 4,
   "metadata": {},
   "outputs": [
    {
     "data": {
      "text/plain": [
       "[Collection(name=temp), Collection(name=langchain), Collection(name=resume)]"
      ]
     },
     "execution_count": 4,
     "metadata": {},
     "output_type": "execute_result"
    }
   ],
   "source": [
    "import chromadb \n",
    "\n",
    "host='localhost'\n",
    "port='8000'\n",
    "client = chromadb.HttpClient(host=host, port=port) \n",
    "\n",
    "\n",
    "client.list_collections()"
   ]
  },
  {
   "cell_type": "code",
   "execution_count": 5,
   "metadata": {},
   "outputs": [],
   "source": [
    "data =  {\n",
    "        \"source\": {\n",
    "            \"id\": None,\n",
    "            \"name\": \"Threadreaderapp.com\"\n",
    "        },\n",
    "        \"author\": None,\n",
    "        \"title\": \"Walls are starting to close in for Tesla, let's have a closer look\",\n",
    "        \"description\": \"@ZeroSumBond: $TSLA Walls are starting to close in for Tesla, let's have a closer look: 1) The recent turnover in senior executives is incredible, with most having a tenure well over 5 years. From CFO, to...\\u2026\",\n",
    "        \"url\": \"https://threadreaderapp.com/thread/1787501413137858617.html\",\n",
    "        \"urlToImage\": \"https://threadreaderapp.com/images/screenshots/thread/1787501413137858617.jpg\",\n",
    "        \"publishedAt\": \"2024-05-22T20:22:25Z\",\n",
    "        \"content\": \"Support us! We are indie developers!\\r\\nThis site is made by just two indie developers on a laptop doing marketing, support and development! Read more about the story.\\r\\nBecome a Premium Member ($3/mont\\u2026 [+395 chars]\"\n",
    "    }"
   ]
  },
  {
   "cell_type": "code",
   "execution_count": 12,
   "metadata": {},
   "outputs": [
    {
     "name": "stdout",
     "output_type": "stream",
     "text": [
      "https://api.goperigon.com/v1/all?apiKey=6b47d882-a23a-44e1-b615-88c8b833512e&q=SpaceX&from=2024-05-03&sourceGroup=top100&language=en\n",
      "Successfully Retrieve 1024 articles\n"
     ]
    }
   ],
   "source": [
    "from api_test import Perigon\n",
    "import os \n",
    "import json \n",
    "api = Perigon(os.getenv('PERIGON_API_KEY'), 'https://api.goperigon.com/v1/')\n",
    "# rom=2024-05-03&q=\"SpaceX\" OR \"Tesla\"&sourceGroup=top100&language=en&apiKey=[KEY]\n",
    "params = { \n",
    "\t\"from\": \"2024-05-03\",\n",
    "\t\"sourceGroup\": \"top100\",\n",
    "\t\"language\": \"en\"\n",
    "}\n",
    "res = api.all('SpaceX', **params)\n"
   ]
  },
  {
   "cell_type": "code",
   "execution_count": 13,
   "metadata": {},
   "outputs": [
    {
     "name": "stdout",
     "output_type": "stream",
     "text": [
      "https://www.bloomberg.com/news/features/2024-05-21/how-to-buy-spacex-stock-here-s-a-pre-ipo-investing-guide?srnd=homepage-europe\n",
      "The constellation Monoceros, faintly visible against the Milky Way, has for centuries occupied the heavens as “the unicorn.” The other space unicorn? Elon Musk ’s Space Exploration Technologies Corp. ... [1005 symbols]\n",
      "Elon Musk's Space Exploration Technologies Corp. (SpaceX), the most highly valued startup in the US, has grown into a $180 billion colossus that launches satellites, operates the Starlink internet service, and is a critical NASA subcontractor. However, SpaceX remains privately held and its shares do not currently trade on a stock exchange. As a result, obtaining a piece of SpaceX is a process that can increase its valuation. Investing in SpaceX is not simple, but it can create demand and raise the company's valuation.\n",
      "{'url': 'https://www.bloomberg.com/news/features/2024-05-21/how-to-buy-spacex-stock-here-s-a-pre-ipo-investing-guide?srnd=homepage-europe', 'authorsByline': 'Kiel Porter', 'articleId': 'd52ab99a185a4884b511380812a121c6', 'clusterId': '2955b6f57e19459aae80d984f5e998b9', 'source': {'domain': 'bloomberg.com', 'paywall': True, 'location': None}, 'imageUrl': 'https://assets.bwbx.io/images/users/iqjWHBFdfxIU/i8aKJ4nvtSjc/v0/1200x675.jpg', 'country': 'us', 'language': 'en', 'pubDate': '2024-05-21T10:00:20.453000+00:00', 'addDate': '2024-05-21T10:24:12.212936+00:00', 'refreshDate': '2024-05-21T10:24:12.212937+00:00', 'score': 58.045235, 'title': 'How to Buy SpaceX', 'description': 'Elon Musk’s startup is privately held. How do you invest? It’s difficult—but not impossible.', 'content': 'The constellation Monoceros, faintly visible against the Milky Way, has for centuries occupied the heavens as “the unicorn.” The other space unicorn? Elon Musk ’s Space Exploration Technologies Corp. ... [1005 symbols]', 'medium': 'Article', 'links': ['https://www.youtube.com/watch?v=jUVnq9PfG9M', 'https://www.bloomberg.com/quote/711339Z:US', 'https://www.spacex.com/'], 'labels': [{'name': 'Non-news'}], 'matchedAuthors': [{'id': 'd2460d77c6c64be4ace1165c2d27f9d6', 'name': 'Kiel Porter'}], 'claim': '', 'verdict': '', 'keywords': [{'name': 'many unicorns', 'weight': 0.096063256}, {'name': 'Space Exploration Technologies Corp.', 'weight': 0.09330041}, {'name': 'reusable rockets', 'weight': 0.07901887}, {'name': 'SpaceX', 'weight': 0.069738984}, {'name': 'Elon Musk ’s Space Exploration Technologies Corp.', 'weight': 0.067222066}, {'name': 'Monoceros', 'weight': 0.06470026}, {'name': 'astronauts', 'weight': 0.058859587}, {'name': 'Starlink', 'weight': 0.05865008}, {'name': 'demand', 'weight': 0.05841091}, {'name': 'NASA', 'weight': 0.057602853}], 'topics': [{'name': 'Space'}, {'name': 'Markets'}], 'categories': [{'name': 'Finance'}], 'entities': [{'data': 'Monoceros', 'type': 'LOC', 'mentions': 1}, {'data': 'the Milky Way', 'type': 'LOC', 'mentions': 1}, {'data': 'Elon Musk ’s', 'type': 'PERSON', 'mentions': 1}, {'data': 'Space Exploration Technologies Corp.', 'type': 'ORG', 'mentions': 1}, {'data': 'Starlink', 'type': 'ORG', 'mentions': 1}, {'data': 'NASA', 'type': 'ORG', 'mentions': 1}, {'data': 'SpaceX', 'type': 'ORG', 'mentions': 2}, {'data': 'US', 'type': 'GPE', 'mentions': 1}, {'data': 'Hawthorne', 'type': 'GPE', 'mentions': 1}, {'data': 'California', 'type': 'GPE', 'mentions': 1}, {'data': 'the International Space Station', 'type': 'FAC', 'mentions': 1}], 'companies': [{'id': '6341175da4eb4343a45655b3978a9904', 'name': 'SpaceX', 'domains': ['spacex.com'], 'symbols': []}], 'sentiment': {'positive': 0.47827828, 'negative': 0.07154241, 'neutral': 0.45017928}, 'summary': \"Elon Musk's Space Exploration Technologies Corp. (SpaceX), the most highly valued startup in the US, has grown into a $180 billion colossus that launches satellites, operates the Starlink internet service, and is a critical NASA subcontractor. However, SpaceX remains privately held and its shares do not currently trade on a stock exchange. As a result, obtaining a piece of SpaceX is a process that can increase its valuation. Investing in SpaceX is not simple, but it can create demand and raise the company's valuation.\", 'translation': '', 'translatedTitle': '', 'translatedDescription': '', 'translatedSummary': '', 'locations': [], 'reprint': False, 'reprintGroupId': '3e08abe37cbb4ca08d087b970270125f', 'places': [], 'people': [{'wikidataId': 'Q317521', 'name': 'Elon Musk'}]}\n"
     ]
    }
   ],
   "source": [
    "print(res['articles'][0]['url'])\n",
    "print(res['articles'][0]['content'])\n",
    "print(res['articles'][0]['summary'])\n",
    "\n",
    "print(res['articles'][0])\n",
    "f = open('temp.json', 'w')\n",
    "json.dump(res,f, indent=4, ensure_ascii=True)\n",
    "f.close()"
   ]
  },
  {
   "cell_type": "code",
   "execution_count": 2,
   "metadata": {},
   "outputs": [],
   "source": [
    "from langchain_community.vectorstores import Chroma\n",
    "import chromadb.utils.embedding_functions as embedding_functions\n",
    "from langchain_community.embeddings import OllamaEmbeddings\n",
    "from langchain.text_splitter import CharacterTextSplitter"
   ]
  },
  {
   "cell_type": "code",
   "execution_count": 54,
   "metadata": {},
   "outputs": [],
   "source": [
    "text_splitter = CharacterTextSplitter(chunk_size=10, chunk_overlap=5)\n",
    "\n",
    "documents = text_splitter.create_documents([res['articles'][0]['summary']],metadatas=[{'url': res['articles'][0]['url']}])\n",
    "\n",
    "docs = text_splitter.split_documents(documents)"
   ]
  },
  {
   "cell_type": "code",
   "execution_count": 56,
   "metadata": {},
   "outputs": [
    {
     "name": "stdout",
     "output_type": "stream",
     "text": [
      "[Document(page_content=\"Elon Musk's Space Exploration Technologies Corp. (SpaceX), the most highly valued startup in the US, has grown into a $180 billion colossus that launches satellites, operates the Starlink internet service, and is a critical NASA subcontractor. However, SpaceX remains privately held and its shares do not currently trade on a stock exchange. As a result, obtaining a piece of SpaceX is a process that can increase its valuation. Investing in SpaceX is not simple, but it can create demand and raise the company's valuation.\", metadata={'url': 'https://www.bloomberg.com/news/features/2024-05-21/how-to-buy-spacex-stock-here-s-a-pre-ipo-investing-guide?srnd=homepage-europe'})]\n"
     ]
    }
   ],
   "source": [
    "print(docs)"
   ]
  },
  {
   "cell_type": "code",
   "execution_count": 48,
   "metadata": {},
   "outputs": [],
   "source": [
    "embedding_function = OllamaEmbeddings(model=\"nomic-embed-text\")\n",
    "\n",
    "db = Chroma.from_documents(docs, embedding_function, client=client, collection_name='temp')"
   ]
  },
  {
   "cell_type": "code",
   "execution_count": 50,
   "metadata": {},
   "outputs": [
    {
     "data": {
      "text/plain": [
       "[Document(page_content=\"Elon Musk's Space Exploration Technologies Corp. (SpaceX), the most highly valued startup in the US, has grown into a $180 billion colossus that launches satellites, operates the Starlink internet service, and is a critical NASA subcontractor. However, SpaceX remains privately held and its shares do not currently trade on a stock exchange. As a result, obtaining a piece of SpaceX is a process that can increase its valuation. Investing in SpaceX is not simple, but it can create demand and raise the company's valuation.\", metadata={'url': 'https://www.bloomberg.com/news/features/2024-05-21/how-to-buy-spacex-stock-here-s-a-pre-ipo-investing-guide?srnd=homepage-europe'})]"
      ]
     },
     "execution_count": 50,
     "metadata": {},
     "output_type": "execute_result"
    }
   ],
   "source": [
    "db.similarity_search('elon') "
   ]
  },
  {
   "cell_type": "code",
   "execution_count": 2,
   "metadata": {},
   "outputs": [
    {
     "name": "stdout",
     "output_type": "stream",
     "text": [
      "temp is Deleted\n",
      "temp is Created\n",
      "[Document(page_content=\"In the June 2024 issue, we explore the ways that artificial intelligence is shaping our economy and culture. The article discusses the delays in Artemis II and Artemis III, a crewed lunar landing mission, and the potential cost of these missions. In January, NASA announced that it would be delayed until September 2025, a year later than originally planned. The project continues to balloon in price and is expected to increase further. Other delays include Lockheed Martin's Orion capsule, which burned more than anticipated during a reentry test. The Federal Aviation Administration (FAA) investigations can add weeks or months between Starship tests. So far, SpaceX has been able to test the spacecraft three times, most recently on March 14. The company hopes to run six Starship test launches this year, but the FAA may delay further tests.\", metadata={'url': 'https://www.yahoo.com/tech/spacex-edges-closer-moon-100012160.html'}), Document(page_content=\"SpaceX has successfully launched 23 Starlink internet satellites from Florida's Cape Canaveral Space Force Station on May 6, marking the company's 46th orbital mission of the year. The Falcon 9 rocket lifted off at 2:14 p.m. EDT (1814 GMT), carrying 23 craft towards low Earth orbit (LEO). The first stage returned to Earth eight minutes later, landing on the droneship Just Read the Instructions. This was the 15th launch and landing for this first stage, falling short of SpaceX's reuse record. The launch was part of SpaceX’s plan to build out the Starlink broadband megaconstellation, which already consists of over 5,800 functional satellites.\", metadata={'url': 'https://www.yahoo.com/tech/spacex-launches-23-starlink-satellites-182817692.html'}), Document(page_content=\"SpaceX has launched 23 Starlink satellites into low-Earth orbit from the Cape Canaveral Space Force Station in Florida, bringing the total number of Starlink satellite satellites in orbit to over 6,000. This was the 15th mission for SpaceX's reusable booster rocket, which launches the spacecraft into orbit under the power of a million pounds of rocket-grade kerosene. The launch was launched amid an intense geomagnetic storm affecting Earth's atmosphere, causing service disruptions. The booster returned to the drone ship A Shortfall of Gravitas, where it will be reconditioned for a future mission. SpaceX CEO Elon Musk has stated that the geomagnication is causing disruption to the satellites. The company has been authorized to deploy 12,000 StarLink satellites and has applied for approval for an additional 30,000 more.\", metadata={'url': 'https://www.yahoo.com/tech/spacex-launches-23-starlink-satellites-012234437.html'}), Document(page_content=\"SpaceX has successfully launched 20 more Starlink satellites from Vandenberg Space Force Base north of Los Angeles County. The Falcon 9 rocket carried out with a crescent moon in sight. This follows SpaceX's recent test flight of its Super Heavy-Starship rocket, the most powerful ever built, successfully boosting the unpiloted upper stage into space.\", metadata={'url': 'https://www.cbsnews.com/losangeles/news/spacex-launches-starlink-satellites-from-southern-california/'})]\n"
     ]
    }
   ],
   "source": [
    "from APItoVDB import APItoVDB\n",
    "import json \n",
    "from langchain_community.embeddings import OllamaEmbeddings\n",
    "\n",
    "db = APItoVDB()\n",
    "\n",
    "# choose your embedding models \n",
    "embedding_function = OllamaEmbeddings(model=\"nomic-embed-text\")\n",
    "\n",
    "with open('temp.json', 'r') as f: \n",
    "\tres = json.load(f)\n",
    "\n",
    "# print(res)\n",
    "\n",
    "db.delete('temp') \n",
    "db.create('temp', emb_fn=embedding_function)\n",
    "\n",
    "\n",
    "for article in res['articles'][:100]:\n",
    "\tif not article['summary']:\n",
    "\t\tcontinue\n",
    "\t# print(article['summary'])\n",
    "\t# print(article['url'])\n",
    "\tmetadata = {'url': article['url']}\n",
    "\tdb.load(article['summary'], metadata) \n",
    "\n",
    "\n",
    "\n",
    "print(db.query(\"TSLA\"))\n"
   ]
  }
 ],
 "metadata": {
  "kernelspec": {
   "display_name": "stock_assistant",
   "language": "python",
   "name": "python3"
  },
  "language_info": {
   "codemirror_mode": {
    "name": "ipython",
    "version": 3
   },
   "file_extension": ".py",
   "mimetype": "text/x-python",
   "name": "python",
   "nbconvert_exporter": "python",
   "pygments_lexer": "ipython3",
   "version": "3.11.9"
  }
 },
 "nbformat": 4,
 "nbformat_minor": 2
}
