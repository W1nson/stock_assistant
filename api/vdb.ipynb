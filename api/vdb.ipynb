{
 "cells": [
  {
   "cell_type": "code",
   "execution_count": 37,
   "metadata": {},
   "outputs": [
    {
     "data": {
      "text/plain": [
       "[Collection(name=langchain), Collection(name=resume)]"
      ]
     },
     "execution_count": 37,
     "metadata": {},
     "output_type": "execute_result"
    }
   ],
   "source": [
    "import chromadb \n",
    "\n",
    "host='localhost'\n",
    "port='8000'\n",
    "client = chromadb.HttpClient(host=host, port=port) \n",
    "\n",
    "\n",
    "client.list_collections()"
   ]
  },
  {
   "cell_type": "code",
   "execution_count": 5,
   "metadata": {},
   "outputs": [],
   "source": [
    "data =  {\n",
    "        \"source\": {\n",
    "            \"id\": None,\n",
    "            \"name\": \"Threadreaderapp.com\"\n",
    "        },\n",
    "        \"author\": None,\n",
    "        \"title\": \"Walls are starting to close in for Tesla, let's have a closer look\",\n",
    "        \"description\": \"@ZeroSumBond: $TSLA Walls are starting to close in for Tesla, let's have a closer look: 1) The recent turnover in senior executives is incredible, with most having a tenure well over 5 years. From CFO, to...\\u2026\",\n",
    "        \"url\": \"https://threadreaderapp.com/thread/1787501413137858617.html\",\n",
    "        \"urlToImage\": \"https://threadreaderapp.com/images/screenshots/thread/1787501413137858617.jpg\",\n",
    "        \"publishedAt\": \"2024-05-22T20:22:25Z\",\n",
    "        \"content\": \"Support us! We are indie developers!\\r\\nThis site is made by just two indie developers on a laptop doing marketing, support and development! Read more about the story.\\r\\nBecome a Premium Member ($3/mont\\u2026 [+395 chars]\"\n",
    "    }"
   ]
  },
  {
   "cell_type": "code",
   "execution_count": 20,
   "metadata": {},
   "outputs": [
    {
     "name": "stdout",
     "output_type": "stream",
     "text": [
      "https://api.goperigon.com/v1/all?apiKey=6b47d882-a23a-44e1-b615-88c8b833512e&q=SpaceX&from=2024-05-03&sourceGroup=top100&language=en\n",
      "Successfully Retrieve 1023 articles\n"
     ]
    }
   ],
   "source": [
    "from api_test import Perigon\n",
    "import os \n",
    "import json \n",
    "api = Perigon(os.getenv('PERIGON_API_KEY'), 'https://api.goperigon.com/v1/')\n",
    "# rom=2024-05-03&q=\"SpaceX\" OR \"Tesla\"&sourceGroup=top100&language=en&apiKey=[KEY]\n",
    "params = { \n",
    "\t\"from\": \"2024-05-03\",\n",
    "\t\"sourceGroup\": \"top100\",\n",
    "\t\"language\": \"en\"\n",
    "}\n",
    "res = api.all('SpaceX', **params)\n"
   ]
  },
  {
   "cell_type": "code",
   "execution_count": 25,
   "metadata": {},
   "outputs": [
    {
     "name": "stdout",
     "output_type": "stream",
     "text": [
      "https://www.bloomberg.com/news/features/2024-05-21/how-to-buy-spacex-stock-here-s-a-pre-ipo-investing-guide?srnd=homepage-europe\n",
      "The constellation Monoceros, faintly visible against the Milky Way, has for centuries occupied the heavens as “the unicorn.” The other space unicorn? Elon Musk ’s Space Exploration Technologies Corp. ... [1005 symbols]\n",
      "Elon Musk's Space Exploration Technologies Corp. (SpaceX), the most highly valued startup in the US, has grown into a $180 billion colossus that launches satellites, operates the Starlink internet service, and is a critical NASA subcontractor. However, SpaceX remains privately held and its shares do not currently trade on a stock exchange. As a result, obtaining a piece of SpaceX is a process that can increase its valuation. Investing in SpaceX is not simple, but it can create demand and raise the company's valuation.\n",
      "{'url': 'https://www.bloomberg.com/news/features/2024-05-21/how-to-buy-spacex-stock-here-s-a-pre-ipo-investing-guide?srnd=homepage-europe', 'authorsByline': 'Kiel Porter', 'articleId': 'd52ab99a185a4884b511380812a121c6', 'clusterId': '2955b6f57e19459aae80d984f5e998b9', 'source': {'domain': 'bloomberg.com', 'paywall': True, 'location': None}, 'imageUrl': 'https://assets.bwbx.io/images/users/iqjWHBFdfxIU/i8aKJ4nvtSjc/v0/1200x675.jpg', 'country': 'us', 'language': 'en', 'pubDate': '2024-05-21T10:00:20.453000+00:00', 'addDate': '2024-05-21T10:24:12.212936+00:00', 'refreshDate': '2024-05-21T10:24:12.212937+00:00', 'score': 58.045242, 'title': 'How to Buy SpaceX', 'description': 'Elon Musk’s startup is privately held. How do you invest? It’s difficult—but not impossible.', 'content': 'The constellation Monoceros, faintly visible against the Milky Way, has for centuries occupied the heavens as “the unicorn.” The other space unicorn? Elon Musk ’s Space Exploration Technologies Corp. ... [1005 symbols]', 'medium': 'Article', 'links': ['https://www.youtube.com/watch?v=jUVnq9PfG9M', 'https://www.bloomberg.com/quote/711339Z:US', 'https://www.spacex.com/'], 'labels': [{'name': 'Non-news'}], 'matchedAuthors': [{'id': 'd2460d77c6c64be4ace1165c2d27f9d6', 'name': 'Kiel Porter'}], 'claim': '', 'verdict': '', 'keywords': [{'name': 'many unicorns', 'weight': 0.096063256}, {'name': 'Space Exploration Technologies Corp.', 'weight': 0.09330041}, {'name': 'reusable rockets', 'weight': 0.07901887}, {'name': 'SpaceX', 'weight': 0.069738984}, {'name': 'Elon Musk ’s Space Exploration Technologies Corp.', 'weight': 0.067222066}, {'name': 'Monoceros', 'weight': 0.06470026}, {'name': 'astronauts', 'weight': 0.058859587}, {'name': 'Starlink', 'weight': 0.05865008}, {'name': 'demand', 'weight': 0.05841091}, {'name': 'NASA', 'weight': 0.057602853}], 'topics': [{'name': 'Space'}, {'name': 'Markets'}], 'categories': [{'name': 'Finance'}], 'entities': [{'data': 'Monoceros', 'type': 'LOC', 'mentions': 1}, {'data': 'the Milky Way', 'type': 'LOC', 'mentions': 1}, {'data': 'Elon Musk ’s', 'type': 'PERSON', 'mentions': 1}, {'data': 'Space Exploration Technologies Corp.', 'type': 'ORG', 'mentions': 1}, {'data': 'Starlink', 'type': 'ORG', 'mentions': 1}, {'data': 'NASA', 'type': 'ORG', 'mentions': 1}, {'data': 'SpaceX', 'type': 'ORG', 'mentions': 2}, {'data': 'US', 'type': 'GPE', 'mentions': 1}, {'data': 'Hawthorne', 'type': 'GPE', 'mentions': 1}, {'data': 'California', 'type': 'GPE', 'mentions': 1}, {'data': 'the International Space Station', 'type': 'FAC', 'mentions': 1}], 'companies': [{'id': '6341175da4eb4343a45655b3978a9904', 'name': 'SpaceX', 'domains': ['spacex.com'], 'symbols': []}], 'sentiment': {'positive': 0.47827828, 'negative': 0.07154241, 'neutral': 0.45017928}, 'summary': \"Elon Musk's Space Exploration Technologies Corp. (SpaceX), the most highly valued startup in the US, has grown into a $180 billion colossus that launches satellites, operates the Starlink internet service, and is a critical NASA subcontractor. However, SpaceX remains privately held and its shares do not currently trade on a stock exchange. As a result, obtaining a piece of SpaceX is a process that can increase its valuation. Investing in SpaceX is not simple, but it can create demand and raise the company's valuation.\", 'translation': '', 'translatedTitle': '', 'translatedDescription': '', 'translatedSummary': '', 'locations': [], 'reprint': False, 'reprintGroupId': '3e08abe37cbb4ca08d087b970270125f', 'places': [], 'people': [{'wikidataId': 'Q317521', 'name': 'Elon Musk'}]}\n"
     ]
    }
   ],
   "source": [
    "print(res['articles'][0]['url'])\n",
    "print(res['articles'][0]['content'])\n",
    "print(res['articles'][0]['summary'])\n",
    "\n",
    "print(res['articles'][0])\n",
    "f = open('temp.json', 'w')\n",
    "json.dump(res['articles'][0],f, indent=4, ensure_ascii=True)\n",
    "f.close()"
   ]
  },
  {
   "cell_type": "code",
   "execution_count": 26,
   "metadata": {},
   "outputs": [],
   "source": [
    "from langchain_community.vectorstores import Chroma\n",
    "import chromadb.utils.embedding_functions as embedding_functions\n",
    "from langchain_community.embeddings import OllamaEmbeddings\n",
    "from langchain.text_splitter import CharacterTextSplitter"
   ]
  },
  {
   "cell_type": "code",
   "execution_count": 39,
   "metadata": {},
   "outputs": [],
   "source": [
    "text_splitter = CharacterTextSplitter(chunk_size=1000, chunk_overlap=20)\n",
    "\n",
    "documents = text_splitter.create_documents([res['articles'][0]['summary']],metadatas=[{'url': res['articles'][0]['url']}])\n",
    "\n",
    "docs = text_splitter.split_documents(documents)"
   ]
  },
  {
   "cell_type": "code",
   "execution_count": 44,
   "metadata": {},
   "outputs": [
    {
     "data": {
      "text/plain": [
       "Document(page_content=\"Elon Musk's Space Exploration Technologies Corp. (SpaceX), the most highly valued startup in the US, has grown into a $180 billion colossus that launches satellites, operates the Starlink internet service, and is a critical NASA subcontractor. However, SpaceX remains privately held and its shares do not currently trade on a stock exchange. As a result, obtaining a piece of SpaceX is a process that can increase its valuation. Investing in SpaceX is not simple, but it can create demand and raise the company's valuation.\", metadata={'url': 'https://www.bloomberg.com/news/features/2024-05-21/how-to-buy-spacex-stock-here-s-a-pre-ipo-investing-guide?srnd=homepage-europe'})"
      ]
     },
     "execution_count": 44,
     "metadata": {},
     "output_type": "execute_result"
    }
   ],
   "source": [
    "docs[0].str"
   ]
  },
  {
   "cell_type": "code",
   "execution_count": 43,
   "metadata": {},
   "outputs": [
    {
     "ename": "AttributeError",
     "evalue": "'tuple' object has no attribute 'page_content'",
     "output_type": "error",
     "traceback": [
      "\u001b[0;31m---------------------------------------------------------------------------\u001b[0m",
      "\u001b[0;31mAttributeError\u001b[0m                            Traceback (most recent call last)",
      "Cell \u001b[0;32mIn[43], line 3\u001b[0m\n\u001b[1;32m      1\u001b[0m embedding_function \u001b[38;5;241m=\u001b[39m OllamaEmbeddings(model\u001b[38;5;241m=\u001b[39m\u001b[38;5;124m\"\u001b[39m\u001b[38;5;124mnomic-embed-text\u001b[39m\u001b[38;5;124m\"\u001b[39m)\n\u001b[0;32m----> 3\u001b[0m db \u001b[38;5;241m=\u001b[39m \u001b[43mChroma\u001b[49m\u001b[38;5;241;43m.\u001b[39;49m\u001b[43mfrom_documents\u001b[49m\u001b[43m(\u001b[49m\u001b[43mdocs\u001b[49m\u001b[43m[\u001b[49m\u001b[38;5;241;43m0\u001b[39;49m\u001b[43m]\u001b[49m\u001b[43m,\u001b[49m\u001b[43m \u001b[49m\u001b[43membedding_function\u001b[49m\u001b[43m,\u001b[49m\u001b[43m \u001b[49m\u001b[43mclient\u001b[49m\u001b[38;5;241;43m=\u001b[39;49m\u001b[43mclient\u001b[49m\u001b[43m,\u001b[49m\u001b[43m \u001b[49m\u001b[43mcollection_name\u001b[49m\u001b[38;5;241;43m=\u001b[39;49m\u001b[38;5;124;43m'\u001b[39;49m\u001b[38;5;124;43mlangchain\u001b[39;49m\u001b[38;5;124;43m'\u001b[39;49m\u001b[43m)\u001b[49m\n",
      "File \u001b[0;32m~/opt/anaconda3/envs/stock_assistant/lib/python3.11/site-packages/langchain_community/vectorstores/chroma.py:788\u001b[0m, in \u001b[0;36mChroma.from_documents\u001b[0;34m(cls, documents, embedding, ids, collection_name, persist_directory, client_settings, client, collection_metadata, **kwargs)\u001b[0m\n\u001b[1;32m    757\u001b[0m \u001b[38;5;129m@classmethod\u001b[39m\n\u001b[1;32m    758\u001b[0m \u001b[38;5;28;01mdef\u001b[39;00m \u001b[38;5;21mfrom_documents\u001b[39m(\n\u001b[1;32m    759\u001b[0m     \u001b[38;5;28mcls\u001b[39m: Type[Chroma],\n\u001b[0;32m   (...)\u001b[0m\n\u001b[1;32m    768\u001b[0m     \u001b[38;5;241m*\u001b[39m\u001b[38;5;241m*\u001b[39mkwargs: Any,\n\u001b[1;32m    769\u001b[0m ) \u001b[38;5;241m-\u001b[39m\u001b[38;5;241m>\u001b[39m Chroma:\n\u001b[1;32m    770\u001b[0m \u001b[38;5;250m    \u001b[39m\u001b[38;5;124;03m\"\"\"Create a Chroma vectorstore from a list of documents.\u001b[39;00m\n\u001b[1;32m    771\u001b[0m \n\u001b[1;32m    772\u001b[0m \u001b[38;5;124;03m    If a persist_directory is specified, the collection will be persisted there.\u001b[39;00m\n\u001b[0;32m   (...)\u001b[0m\n\u001b[1;32m    786\u001b[0m \u001b[38;5;124;03m        Chroma: Chroma vectorstore.\u001b[39;00m\n\u001b[1;32m    787\u001b[0m \u001b[38;5;124;03m    \"\"\"\u001b[39;00m\n\u001b[0;32m--> 788\u001b[0m     texts \u001b[38;5;241m=\u001b[39m \u001b[43m[\u001b[49m\u001b[43mdoc\u001b[49m\u001b[38;5;241;43m.\u001b[39;49m\u001b[43mpage_content\u001b[49m\u001b[43m \u001b[49m\u001b[38;5;28;43;01mfor\u001b[39;49;00m\u001b[43m \u001b[49m\u001b[43mdoc\u001b[49m\u001b[43m \u001b[49m\u001b[38;5;129;43;01min\u001b[39;49;00m\u001b[43m \u001b[49m\u001b[43mdocuments\u001b[49m\u001b[43m]\u001b[49m\n\u001b[1;32m    789\u001b[0m     metadatas \u001b[38;5;241m=\u001b[39m [doc\u001b[38;5;241m.\u001b[39mmetadata \u001b[38;5;28;01mfor\u001b[39;00m doc \u001b[38;5;129;01min\u001b[39;00m documents]\n\u001b[1;32m    790\u001b[0m     \u001b[38;5;28;01mreturn\u001b[39;00m \u001b[38;5;28mcls\u001b[39m\u001b[38;5;241m.\u001b[39mfrom_texts(\n\u001b[1;32m    791\u001b[0m         texts\u001b[38;5;241m=\u001b[39mtexts,\n\u001b[1;32m    792\u001b[0m         embedding\u001b[38;5;241m=\u001b[39membedding,\n\u001b[0;32m   (...)\u001b[0m\n\u001b[1;32m    800\u001b[0m         \u001b[38;5;241m*\u001b[39m\u001b[38;5;241m*\u001b[39mkwargs,\n\u001b[1;32m    801\u001b[0m     )\n",
      "File \u001b[0;32m~/opt/anaconda3/envs/stock_assistant/lib/python3.11/site-packages/langchain_community/vectorstores/chroma.py:788\u001b[0m, in \u001b[0;36m<listcomp>\u001b[0;34m(.0)\u001b[0m\n\u001b[1;32m    757\u001b[0m \u001b[38;5;129m@classmethod\u001b[39m\n\u001b[1;32m    758\u001b[0m \u001b[38;5;28;01mdef\u001b[39;00m \u001b[38;5;21mfrom_documents\u001b[39m(\n\u001b[1;32m    759\u001b[0m     \u001b[38;5;28mcls\u001b[39m: Type[Chroma],\n\u001b[0;32m   (...)\u001b[0m\n\u001b[1;32m    768\u001b[0m     \u001b[38;5;241m*\u001b[39m\u001b[38;5;241m*\u001b[39mkwargs: Any,\n\u001b[1;32m    769\u001b[0m ) \u001b[38;5;241m-\u001b[39m\u001b[38;5;241m>\u001b[39m Chroma:\n\u001b[1;32m    770\u001b[0m \u001b[38;5;250m    \u001b[39m\u001b[38;5;124;03m\"\"\"Create a Chroma vectorstore from a list of documents.\u001b[39;00m\n\u001b[1;32m    771\u001b[0m \n\u001b[1;32m    772\u001b[0m \u001b[38;5;124;03m    If a persist_directory is specified, the collection will be persisted there.\u001b[39;00m\n\u001b[0;32m   (...)\u001b[0m\n\u001b[1;32m    786\u001b[0m \u001b[38;5;124;03m        Chroma: Chroma vectorstore.\u001b[39;00m\n\u001b[1;32m    787\u001b[0m \u001b[38;5;124;03m    \"\"\"\u001b[39;00m\n\u001b[0;32m--> 788\u001b[0m     texts \u001b[38;5;241m=\u001b[39m [\u001b[43mdoc\u001b[49m\u001b[38;5;241;43m.\u001b[39;49m\u001b[43mpage_content\u001b[49m \u001b[38;5;28;01mfor\u001b[39;00m doc \u001b[38;5;129;01min\u001b[39;00m documents]\n\u001b[1;32m    789\u001b[0m     metadatas \u001b[38;5;241m=\u001b[39m [doc\u001b[38;5;241m.\u001b[39mmetadata \u001b[38;5;28;01mfor\u001b[39;00m doc \u001b[38;5;129;01min\u001b[39;00m documents]\n\u001b[1;32m    790\u001b[0m     \u001b[38;5;28;01mreturn\u001b[39;00m \u001b[38;5;28mcls\u001b[39m\u001b[38;5;241m.\u001b[39mfrom_texts(\n\u001b[1;32m    791\u001b[0m         texts\u001b[38;5;241m=\u001b[39mtexts,\n\u001b[1;32m    792\u001b[0m         embedding\u001b[38;5;241m=\u001b[39membedding,\n\u001b[0;32m   (...)\u001b[0m\n\u001b[1;32m    800\u001b[0m         \u001b[38;5;241m*\u001b[39m\u001b[38;5;241m*\u001b[39mkwargs,\n\u001b[1;32m    801\u001b[0m     )\n",
      "\u001b[0;31mAttributeError\u001b[0m: 'tuple' object has no attribute 'page_content'"
     ]
    }
   ],
   "source": [
    "embedding_function = OllamaEmbeddings(model=\"nomic-embed-text\")\n",
    "\n",
    "db = Chroma.from_documents(docs[0], embedding_function, client=client, collection_name='langchain')"
   ]
  },
  {
   "cell_type": "code",
   "execution_count": null,
   "metadata": {},
   "outputs": [],
   "source": [
    "Chroma.similarity_search(q) "
   ]
  }
 ],
 "metadata": {
  "kernelspec": {
   "display_name": "stock_assistant",
   "language": "python",
   "name": "python3"
  },
  "language_info": {
   "codemirror_mode": {
    "name": "ipython",
    "version": 3
   },
   "file_extension": ".py",
   "mimetype": "text/x-python",
   "name": "python",
   "nbconvert_exporter": "python",
   "pygments_lexer": "ipython3",
   "version": "3.11.9"
  }
 },
 "nbformat": 4,
 "nbformat_minor": 2
}
