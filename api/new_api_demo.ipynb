{
 "cells": [
  {
   "cell_type": "markdown",
   "metadata": {},
   "source": [
    "# Alec Task \n",
    "\n",
    "## Need to think about how to pick the useful data from the API? Do we need to include title? descriptions? or just content?"
   ]
  },
  {
   "cell_type": "markdown",
   "metadata": {},
   "source": [
    "### Here is how you can use the API library that I wrote to query and study the content of each article"
   ]
  },
  {
   "cell_type": "markdown",
   "metadata": {},
   "source": [
    "#### Import libraries "
   ]
  },
  {
   "cell_type": "code",
   "execution_count": 4,
   "metadata": {},
   "outputs": [
    {
     "data": {
      "text/plain": [
       "True"
      ]
     },
     "execution_count": 4,
     "metadata": {},
     "output_type": "execute_result"
    }
   ],
   "source": [
    "import requests\n",
    "from api_test import News \n",
    "import json\n",
    "import os \n",
    "from dotenv import load_dotenv\n",
    "\n",
    "load_dotenv()\n"
   ]
  },
  {
   "cell_type": "markdown",
   "metadata": {},
   "source": [
    "#### Running the code"
   ]
  },
  {
   "cell_type": "code",
   "execution_count": 5,
   "metadata": {},
   "outputs": [
    {
     "name": "stdout",
     "output_type": "stream",
     "text": [
      "https://newsapi.org/v2/everything?apiKey=7240678d988a43888645998088cad9cf&q=TSLA&from=2024-04-29&sortBy=popularity\n",
      "Successfully Retrieve 533 articles\n"
     ]
    }
   ],
   "source": [
    "# connects to the API Class to use the API KEY and domain name to get articles\n",
    "api = News(os.getenv('NEWS_API_KEY'), 'https://newsapi.org/v2/')\n",
    "\n",
    "\n",
    "# query string \n",
    "q = 'TSLA'\n",
    "\n",
    "# additional parameters \n",
    "params = { \n",
    "\t\"from\": \"2024-04-29\",\n",
    "\t\"sortBy\": \"popularity\",\n",
    "}\n",
    "\n",
    "# get everything function where it get everything from the internet about news with the parameters\n",
    "res = api.get_everything(q, **params)\n"
   ]
  },
  {
   "cell_type": "markdown",
   "metadata": {},
   "source": [
    "#### Simple data structure from the API "
   ]
  },
  {
   "cell_type": "code",
   "execution_count": 6,
   "metadata": {},
   "outputs": [
    {
     "name": "stdout",
     "output_type": "stream",
     "text": [
      "{'source': {'id': None, 'name': 'Threadreaderapp.com'}, 'author': None, 'title': \"Walls are starting to close in for Tesla, let's have a closer look\", 'description': \"@ZeroSumBond: $TSLA Walls are starting to close in for Tesla, let's have a closer look: 1) The recent turnover in senior executives is incredible, with most having a tenure well over 5 years. From CFO, to...…\", 'url': 'https://threadreaderapp.com/thread/1787501413137858617.html', 'urlToImage': 'https://threadreaderapp.com/images/screenshots/thread/1787501413137858617.jpg', 'publishedAt': '2024-05-22T20:22:25Z', 'content': 'Support us! We are indie developers!\\r\\nThis site is made by just two indie developers on a laptop doing marketing, support and development! Read more about the story.\\r\\nBecome a Premium Member ($3/mont… [+395 chars]'}\n"
     ]
    }
   ],
   "source": [
    "print(res[0])"
   ]
  },
  {
   "cell_type": "markdown",
   "metadata": {},
   "source": [
    "#### Save to file \n"
   ]
  },
  {
   "cell_type": "code",
   "execution_count": 7,
   "metadata": {},
   "outputs": [],
   "source": [
    "file_name = \"output.json\" \n",
    "\n",
    "with open(file_name, 'w') as f: \n",
    "\tjson.dump(res, f, indent=4)\n",
    "\t"
   ]
  }
 ],
 "metadata": {
  "kernelspec": {
   "display_name": "stock_assistant",
   "language": "python",
   "name": "python3"
  },
  "language_info": {
   "codemirror_mode": {
    "name": "ipython",
    "version": 3
   },
   "file_extension": ".py",
   "mimetype": "text/x-python",
   "name": "python",
   "nbconvert_exporter": "python",
   "pygments_lexer": "ipython3",
   "version": "3.11.9"
  }
 },
 "nbformat": 4,
 "nbformat_minor": 2
}
